{
 "cells": [
  {
   "cell_type": "code",
   "execution_count": null,
   "id": "3474cfc3",
   "metadata": {},
   "outputs": [],
   "source": [
    "# CycleGAN Implementation here"
   ]
  }
 ],
 "metadata": {
  "language_info": {
   "name": "python"
  }
 },
 "nbformat": 4,
 "nbformat_minor": 5
}
